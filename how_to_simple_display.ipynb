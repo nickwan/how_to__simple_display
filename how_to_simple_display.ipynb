{
 "cells": [
  {
   "cell_type": "code",
   "execution_count": 1,
   "metadata": {
    "collapsed": true
   },
   "outputs": [],
   "source": [
    "import cairo\n",
    "from IPython.display import SVG, display, Image"
   ]
  },
  {
   "cell_type": "code",
   "execution_count": 2,
   "metadata": {
    "collapsed": true
   },
   "outputs": [],
   "source": [
    "def show_img(file):\n",
    "    display(Image(filename=file))\n",
    "    \n",
    "def show_svg(file):\n",
    "    display(SVG(filename=file))    "
   ]
  },
  {
   "cell_type": "code",
   "execution_count": 3,
   "metadata": {
    "collapsed": false
   },
   "outputs": [
    {
     "data": {
      "image/png": "[encoded data removed]",
      "text/plain": [
       "<IPython.core.display.Image object>"
      ]
     },
     "metadata": {},
     "output_type": "display_data"
    }
   ],
   "source": [
    "surface = cairo.ImageSurface(cairo.FORMAT_ARGB32, 200, 200)\n",
    "context = cairo.Context(surface)\n",
    "\n",
    "x, y, x1, y1 = 0.1, 0.5, 0.4, 0.9\n",
    "x2, y2, x3, y3 = 0.6, 0.1, 0.9, 0.5\n",
    "context.scale(200, 200)\n",
    "context.set_line_width(0.04)\n",
    "context.move_to(x, y)\n",
    "context.curve_to(x1, y1, x2, y2, x3, y3)\n",
    "context.set_source_rgb(0, 0, 0)\n",
    "context.stroke()\n",
    "context.set_source_rgba(1, 0.2, 0.2, 0.6)\n",
    "context.set_line_width(0.02)\n",
    "context.move_to(x, y)\n",
    "context.line_to(x1, y1)\n",
    "context.move_to(x2, y2)\n",
    "context.line_to(x3, y3)\n",
    "context.stroke()\n",
    "\n",
    "surface.write_to_png(\"example.png\")\n",
    "show_img('example.png')"
   ]
  },
  {
   "cell_type": "code",
   "execution_count": 4,
   "metadata": {
    "collapsed": false
   },
   "outputs": [
    {
     "data": {
      "image/svg+xml": [
       "<svg height=\"200pt\" version=\"1.1\" viewBox=\"0 0 200 200\" width=\"200pt\" xmlns=\"http://www.w3.org/2000/svg\" xmlns:xlink=\"http://www.w3.org/1999/xlink\">\n",
       "<g id=\"surface2\">\n",
       "<path d=\"M 0.1 0.5 C 0.4 0.9 0.6 0.1 0.9 0.5 \" style=\"fill:none;stroke-width:0.04;stroke-linecap:butt;stroke-linejoin:miter;stroke:rgb(100%,20%,20%);stroke-opacity:1;stroke-miterlimit:10;\" transform=\"matrix(200,0,0,200,0,0)\"/>\n",
       "<path d=\"M 0.1 0.5 L 0.4 0.9 M 0.6 0.1 L 0.9 0.5 \" style=\"fill:none;stroke-width:0.02;stroke-linecap:butt;stroke-linejoin:miter;stroke:rgb(0%,0%,0%);stroke-opacity:0.6;stroke-miterlimit:10;\" transform=\"matrix(200,0,0,200,0,0)\"/>\n",
       "</g>\n",
       "</svg>"
      ],
      "text/plain": [
       "<IPython.core.display.SVG object>"
      ]
     },
     "metadata": {},
     "output_type": "display_data"
    }
   ],
   "source": [
    "with cairo.SVGSurface('example.svg', 200, 200) as surface:\n",
    "    context = cairo.Context(surface)\n",
    "    x, y, x1, y1 = 0.1, 0.5, 0.4, 0.9\n",
    "    x2, y2, x3, y3 = 0.6, 0.1, 0.9, 0.5\n",
    "    context.scale(200, 200)\n",
    "    context.set_line_width(0.04)\n",
    "    context.move_to(x, y)\n",
    "    context.curve_to(x1, y1, x2, y2, x3, y3)\n",
    "    context.set_source_rgb(1, 0.2, 0.2)\n",
    "    context.stroke()\n",
    "    context.set_source_rgba(0, 0, 0, 0.6)\n",
    "    context.set_line_width(0.02)\n",
    "    context.move_to(x, y)\n",
    "    context.line_to(x1, y1)\n",
    "    context.move_to(x2, y2)\n",
    "    context.line_to(x3, y3)\n",
    "    context.stroke()\n",
    "\n",
    "show_svg('example.svg')"
   ]
  }
 ],
 "metadata": {
  "anaconda-cloud": {},
  "kernelspec": {
   "display_name": "Python [conda root]",
   "language": "python",
   "name": "conda-root-py"
  },
  "language_info": {
   "codemirror_mode": {
    "name": "ipython",
    "version": 3
   },
   "file_extension": ".py",
   "mimetype": "text/x-python",
   "name": "python",
   "nbconvert_exporter": "python",
   "pygments_lexer": "ipython3",
   "version": "3.5.2"
  }
 },
 "nbformat": 4,
 "nbformat_minor": 1
}
